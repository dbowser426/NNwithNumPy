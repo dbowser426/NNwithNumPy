{
 "cells": [
  {
   "cell_type": "code",
   "execution_count": 1,
   "id": "839ea4ba",
   "metadata": {},
   "outputs": [],
   "source": [
    "import numpy as np\n",
    "import matplotlib.pyplot as plt\n",
    "from mpl_toolkits.mplot3d import Axes3D"
   ]
  },
  {
   "cell_type": "code",
   "execution_count": 2,
   "id": "697ab680",
   "metadata": {},
   "outputs": [],
   "source": [
    "observations = 1000\n",
    "\n",
    "#generating the data\n",
    "xs=np.random.uniform(low=-10,high=10,size=(observations,1))\n",
    "zs=np.random.uniform(-10,10,(observations,1))\n",
    "#shaping the data to avoid shape errors\n",
    "inputs = xs\n",
    "inputs = np.column_stack((xs,zs))"
   ]
  },
  {
   "cell_type": "code",
   "execution_count": 3,
   "id": "4af1b77a",
   "metadata": {},
   "outputs": [],
   "source": [
    "#adding in noise to help make the model more accurate\n",
    "noise = np.random.uniform(-1,1,(observations,1))\n",
    "#defining the training targets\n",
    "targets = 2*xs - 3*zs + 5 + noise"
   ]
  },
  {
   "cell_type": "code",
   "execution_count": 4,
   "id": "c4f018cd",
   "metadata": {},
   "outputs": [],
   "source": [
    "#initializing weights and biases\n",
    "init_range = 0.1\n",
    "weights = np.random.uniform(low=-init_range,high=init_range, size=(2,1))\n",
    "biases = np.random.uniform(low=-init_range,high=init_range,size=1)"
   ]
  },
  {
   "cell_type": "code",
   "execution_count": 5,
   "id": "2d101456",
   "metadata": {},
   "outputs": [
    {
     "data": {
      "image/png": "[encoded data removed]",
      "text/plain": [
       "<Figure size 432x288 with 1 Axes>"
      ]
     },
     "metadata": {
      "needs_background": "light"
     },
     "output_type": "display_data"
    }
   ],
   "source": [
    "#plotting the training data. In order to plot the data, I reshaped the data to avoid shape errors\n",
    "targets = targets.reshape(observations,)\n",
    "xs = xs.reshape(observations,)\n",
    "zs = zs.reshape(observations,)\n",
    "fig = plt.figure()\n",
    "\n",
    "ax = fig.add_subplot(111, projection='3d')\n",
    "\n",
    "ax.plot(xs, zs, targets)\n",
    "\n",
    "ax.set_xlabel('xs')\n",
    "ax.set_ylabel('zs')\n",
    "ax.set_zlabel('Targets')\n",
    "\n",
    "ax.view_init(azim=100)\n",
    "\n",
    "plt.show()\n",
    "\n",
    "#reshaping data back to its original state\n",
    "targets = targets.reshape(observations,1)\n",
    "xs = xs.reshape(observations,1)\n",
    "zs = zs.reshape(observations,1)"
   ]
  },
  {
   "cell_type": "code",
   "execution_count": 6,
   "id": "e4d617c0",
   "metadata": {},
   "outputs": [],
   "source": [
    "learning_rate = 0.01"
   ]
  },
  {
   "cell_type": "code",
   "execution_count": 7,
   "id": "5c668ca5",
   "metadata": {},
   "outputs": [
    {
     "name": "stdout",
     "output_type": "stream",
     "text": [
      "474.28981911541894\n",
      "223.53559616560676\n",
      "112.3362134150386\n",
      "62.87948361364244\n",
      "40.742287977178\n",
      "30.69614746755021\n",
      "26.004031397437164\n",
      "23.6854299511322\n",
      "22.421684805752808\n",
      "21.62933056833307\n",
      "21.050149287542567\n",
      "20.569813336417617\n",
      "20.13765384595776\n",
      "19.73116643618431\n",
      "19.34030853609814\n",
      "18.960552459606276\n",
      "18.58981202747106\n",
      "18.227082854219386\n",
      "17.871840767948385\n",
      "17.52377563335914\n",
      "17.18267356052636\n",
      "16.848364761641825\n",
      "16.520700451828617\n",
      "16.199542600061896\n",
      "15.88475936577113\n",
      "15.576223051466306\n",
      "15.273809169067807\n",
      "14.977395999516101\n",
      "14.686864371162319\n",
      "14.402097535484197\n",
      "14.122981086382174\n",
      "13.849402899266817\n",
      "13.581253079402869\n",
      "13.318423914838768\n",
      "13.060809831845583\n",
      "12.80830735193715\n",
      "12.560815050051293\n",
      "12.318233513697367\n",
      "12.080465302974721\n",
      "11.847414911411159\n",
      "11.618988727590324\n",
      "11.395094997545641\n",
      "11.175643787902827\n",
      "10.960546949754686\n",
      "10.749718083253184\n",
      "10.543072502904336\n",
      "10.340527203551694\n",
      "10.14200082703496\n",
      "9.947413629510105\n",
      "9.756687449417916\n",
      "9.569745676088198\n",
      "9.38651321896684\n",
      "9.206916477453582\n",
      "9.030883311338158\n",
      "8.858343011823134\n",
      "8.689226273121658\n",
      "8.523465164618814\n",
      "8.360993103585331\n",
      "8.201744828432686\n",
      "8.045656372498913\n",
      "7.892665038354571\n",
      "7.742709372618494\n",
      "7.595729141273265\n",
      "7.4516653054705015\n",
      "7.310459997816177\n",
      "7.172056499126539\n",
      "7.036399215645201\n",
      "6.903433656712306\n",
      "6.773106412876776\n",
      "6.645365134442882\n",
      "6.520158510442466\n",
      "6.39743624802442\n",
      "6.277149052253093\n",
      "6.159248606307595\n",
      "6.043687552073911\n",
      "5.930419471122175\n",
      "5.819398866061361\n",
      "5.710581142263954\n",
      "5.603922589953203\n",
      "5.499380366645866\n",
      "5.396912479943272\n",
      "5.296477770663855\n",
      "5.198035896310401\n",
      "5.101547314865307\n",
      "5.006973268907401\n",
      "4.9142757700438855\n",
      "4.823417583651231\n",
      "4.73436221391879\n",
      "4.647073889189221\n",
      "4.561517547589773\n",
      "4.477658822948645\n",
      "4.395464030990851\n",
      "4.314900155807957\n",
      "4.235934836596276\n",
      "4.158536354658219\n",
      "4.08267362066158\n",
      "4.008316162151594\n",
      "3.9354341113108076\n",
      "3.8639981929618\n",
      "3.793979712807968\n"
     ]
    }
   ],
   "source": [
    "#training the model based on the gradient descent method\n",
    "for i in range (100):\n",
    "    outputs = np.dot(inputs,weights) + biases\n",
    "    deltas = outputs - targets\n",
    "    loss = np.sum(deltas ** 2) / observations\n",
    "    #print the loss with each iteration to check for convergence\n",
    "    print(loss)\n",
    "    \n",
    "    deltas_scaled = deltas/observations\n",
    "    weights = weights - learning_rate * np.dot(inputs.T,deltas_scaled)\n",
    "    biases = biases - learning_rate * sum(deltas_scaled)"
   ]
  },
  {
   "cell_type": "code",
   "execution_count": 8,
   "id": "27bb8928",
   "metadata": {},
   "outputs": [
    {
     "name": "stdout",
     "output_type": "stream",
     "text": [
      "[[ 2.0154401 ]\n",
      " [-3.00823177]] [3.15391386]\n"
     ]
    }
   ],
   "source": [
    "#printing the new weights and biases to check for accuracy\n",
    "print (weights,biases)"
   ]
  }
 ],
 "metadata": {
  "kernelspec": {
   "display_name": "Python 3 (ipykernel)",
   "language": "python",
   "name": "python3"
  },
  "language_info": {
   "codemirror_mode": {
    "name": "ipython",
    "version": 3
   },
   "file_extension": ".py",
   "mimetype": "text/x-python",
   "name": "python",
   "nbconvert_exporter": "python",
   "pygments_lexer": "ipython3",
   "version": "3.9.12"
  }
 },
 "nbformat": 4,
 "nbformat_minor": 5
}
